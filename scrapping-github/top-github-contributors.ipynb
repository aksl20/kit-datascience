{
 "cells": [
  {
   "cell_type": "code",
   "execution_count": 85,
   "metadata": {},
   "outputs": [],
   "source": [
    "from bs4 import BeautifulSoup\n",
    "import requests\n",
    "import math\n",
    "import pickle\n",
    "import operator"
   ]
  },
  {
   "cell_type": "markdown",
   "metadata": {},
   "source": [
    "Put your token's github and username's github in the cell bellow for authentication."
   ]
  },
  {
   "cell_type": "code",
   "execution_count": 87,
   "metadata": {},
   "outputs": [],
   "source": [
    "token = ''\n",
    "username = ''"
   ]
  },
  {
   "cell_type": "code",
   "execution_count": 88,
   "metadata": {},
   "outputs": [],
   "source": [
    "url = 'https://gist.github.com/paulmillr/2657075'\n",
    "\n",
    "def get_top_contributors(url):\n",
    "    \"\"\"Function to crawl top contributors from the specific page\"\"\"\n",
    "    soup = BeautifulSoup(requests.get(url, auth=(username, token)).content)\n",
    "    table_content = soup.find('table').find_all('tr')\n",
    "    return [user.select_one('a').text for user in table_content[1:]]\n",
    "\n",
    "def get_mean_stars_repo(user):\n",
    "    repos = requests.get('https://api.github.com/users/{}/repos'.format(user), \n",
    "                         auth=(username, token)).json()\n",
    "\n",
    "    count_starts = [repo['stargazers_count'] for repo in repos]\n",
    "    return sum(count_starts)/len(count_starts) if len(count_starts) else 0"
   ]
  },
  {
   "cell_type": "markdown",
   "metadata": {},
   "source": [
    "The cell below take a while to finish, you rather load the pickle from data directory"
   ]
  },
  {
   "cell_type": "code",
   "execution_count": null,
   "metadata": {},
   "outputs": [],
   "source": [
    "%%time\n",
    "top_contributors = get_top_contributors(url)\n",
    "mean_stars_repo = dict(map(lambda user: (user, get_mean_stars_repo(user)), top_contributors))"
   ]
  },
  {
   "cell_type": "code",
   "execution_count": 72,
   "metadata": {},
   "outputs": [],
   "source": [
    "# Save data because function take a long time\n",
    " with open('data/mean_stars_repo.pkl', 'wb') as f:\n",
    "    pickle.dump(mean_stars_repo, f)"
   ]
  },
  {
   "cell_type": "code",
   "execution_count": 90,
   "metadata": {},
   "outputs": [],
   "source": [
    "# Load data (if you don't want to wait)\n",
    "with open('data/mean_stars_repo.pkl', 'rb') as f:\n",
    "    mean_stars_repo = pickle.load(f)"
   ]
  },
  {
   "cell_type": "code",
   "execution_count": 91,
   "metadata": {},
   "outputs": [
    {
     "data": {
      "text/plain": [
       "[('kamranahmedse', 4533.533333333334),\n",
       " ('bailicangdu', 3251.2105263157896),\n",
       " ('vinta', 3212.2916666666665),\n",
       " ('mrdoob', 2226.5666666666666),\n",
       " ('sebastianbergmann', 2132.0),\n",
       " ('nolimits4web', 1852.0833333333333),\n",
       " ('ruanyf', 1843.3333333333333),\n",
       " ('junyanz', 1810.3333333333333),\n",
       " ('avelino', 1632.9),\n",
       " ('IanLunn', 1497.7777777777778)]"
      ]
     },
     "execution_count": 91,
     "metadata": {},
     "output_type": "execute_result"
    }
   ],
   "source": [
    "sorted_dict = sorted(mean_stars_repo.items(), key=operator.itemgetter(1), reverse=True)\n",
    "sorted_dict[:10]"
   ]
  }
 ],
 "metadata": {
  "kernelspec": {
   "display_name": "Python 3",
   "language": "python",
   "name": "python3"
  },
  "language_info": {
   "codemirror_mode": {
    "name": "ipython",
    "version": 3
   },
   "file_extension": ".py",
   "mimetype": "text/x-python",
   "name": "python",
   "nbconvert_exporter": "python",
   "pygments_lexer": "ipython3",
   "version": "3.6.9"
  }
 },
 "nbformat": 4,
 "nbformat_minor": 4
}
