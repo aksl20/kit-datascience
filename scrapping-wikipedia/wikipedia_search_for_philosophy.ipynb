{
 "cells": [
  {
   "cell_type": "code",
   "execution_count": null,
   "metadata": {},
   "outputs": [],
   "source": [
    "import requests\n",
    "from bs4 import BeautifulSoup"
   ]
  },
  {
   "cell_type": "code",
   "execution_count": 63,
   "metadata": {},
   "outputs": [],
   "source": [
    "def search_for_philosophy(term, count=0, links_already_passed=[]):\n",
    "    wiki_site = 'https://fr.wikipedia.org/' + term\n",
    "    soup = BeautifulSoup(requests.get(wiki_site).content)\n",
    "    next_links = [tag.get('href') for tag in soup.find_all('a') \n",
    "                  if tag.get('href') and all([char not in tag.get('href')  for char in (':', '#', '?')])\n",
    "                 and 'homonymie' not in tag.get('href')]\n",
    "    next_links = list(filter(lambda link: link not in links_already_passed, next_links))\n",
    "    \n",
    "    if '/wiki/Philosophie' in next_links:\n",
    "        return count, wiki_site\n",
    "    else:\n",
    "        if count%50 == 0:\n",
    "            print('Distance (in number of links) : {}\\n'\n",
    "                  'Current page : {}'.format(count, wiki_site))\n",
    "        count += 1\n",
    "        links_already_passed.append(term)\n",
    "        return search_for_philosophy(next_links[0], count, links_already_passed)"
   ]
  },
  {
   "cell_type": "code",
   "execution_count": 65,
   "metadata": {},
   "outputs": [
    {
     "name": "stdout",
     "output_type": "stream",
     "text": [
      "Distance (in number of links) : 0\n",
      "Current page : https://fr.wikipedia.org/wiki/banana split\n",
      "\n",
      "\n",
      "Total distance (in number of links) : 25\n",
      "Last page before philosophy : https://fr.wikipedia.org//wiki/Victor_Hugo\n"
     ]
    }
   ],
   "source": [
    "count = 0\n",
    "links_already_passed = []\n",
    "\n",
    "count, last_page = search_for_philosophy('wiki/banana split', count, links_already_passed)\n",
    "print('\\n\\nTotal distance (in number of links) : {}\\n'\n",
    "      'Last page before philosophy : {}'.format(count+1, last_page))"
   ]
  }
 ],
 "metadata": {
  "kernelspec": {
   "display_name": "Python 3",
   "language": "python",
   "name": "python3"
  },
  "language_info": {
   "codemirror_mode": {
    "name": "ipython",
    "version": 3
   },
   "file_extension": ".py",
   "mimetype": "text/x-python",
   "name": "python",
   "nbconvert_exporter": "python",
   "pygments_lexer": "ipython3",
   "version": "3.6.7"
  }
 },
 "nbformat": 4,
 "nbformat_minor": 4
}
