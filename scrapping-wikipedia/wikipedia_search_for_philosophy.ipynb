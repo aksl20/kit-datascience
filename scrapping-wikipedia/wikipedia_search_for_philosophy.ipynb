{
 "cells": [
  {
   "cell_type": "code",
   "execution_count": 1,
   "metadata": {},
   "outputs": [],
   "source": [
    "import requests\n",
    "from bs4 import BeautifulSoup"
   ]
  },
  {
   "cell_type": "code",
   "execution_count": 23,
   "metadata": {},
   "outputs": [],
   "source": [
    "from random import choice\n",
    "    \n",
    "def search_for_philosophy(term, count=0, links_already_passed=[]):\n",
    "    wiki_site = 'https://fr.wikipedia.org/' + term\n",
    "    soup = BeautifulSoup(requests.get(wiki_site).content)\n",
    "    next_links = [tag.get('href') for tag in soup.find_all('a') \n",
    "                  if tag.get('href') and all([char not in tag.get('href')  for char in (':', '#', '?')])]\n",
    "    next_links = list(filter(lambda link: link not in links_already_passed, next_links))\n",
    "    \n",
    "    if 'wiki/philosophie' == term.lower():\n",
    "        return count, wiki_site\n",
    "    else:\n",
    "        if count%50 == 0:\n",
    "            print(count)\n",
    "            print(term)\n",
    "        count += 1\n",
    "        links_already_passed.append(term)\n",
    "        return search_for_philosophy(choice(next_links), count, links_already_passed)"
   ]
  },
  {
   "cell_type": "code",
   "execution_count": 24,
   "metadata": {},
   "outputs": [
    {
     "name": "stdout",
     "output_type": "stream",
     "text": [
      "0\n",
      "wiki/chien\n",
      "50\n",
      "/wiki/Animal_Diversity_Web\n",
      "100\n",
      "/wiki/Wikip%C3%A9dia_en_lingua_franca_nova\n",
      "150\n",
      "/wiki/Aleksandrovsk-Sakhalinski\n",
      "200\n",
      "/wiki/%C3%89ric_Girard_(d%C3%A9put%C3%A9_de_Lac-Saint-Jean)\n",
      "250\n",
      "/wiki/Automne\n",
      "300\n",
      "/wiki/Si%C3%A8ges_r%C3%A9serv%C3%A9s\n",
      "350\n",
      "/wiki/Gala_(magazine)\n",
      "400\n",
      "/wiki/Plante\n",
      "450\n",
      "/wiki/Unbioctium\n",
      "500\n",
      "/wiki/Martigues\n",
      "550\n",
      "/wiki/Archidioc%C3%A8se_de_Montr%C3%A9al\n",
      "600\n",
      "/wiki/Lois_de_Kepler\n",
      "650\n",
      "/wiki/19_janvier\n",
      "700\n",
      "/wiki/XVIIe_si%C3%A8cle\n",
      "750\n",
      "/wiki/Consonne_fricative_labio-dentale_vois%C3%A9e\n",
      "800\n",
      "/wiki/Exomars\n",
      "850\n",
      "/wiki/Afrique_du_Sud\n",
      "900\n",
      "/wiki/M%C3%A9canique_(industrie)\n",
      "950\n",
      "/wiki/Amylase\n",
      "1000\n",
      "/wiki/Espagnol\n",
      "1050\n",
      "/wiki/La_D%C3%A9p%C3%AAche_de_Tahiti\n",
      "1100\n",
      "/wiki/29_juin\n",
      "1150\n",
      "/wiki/Jeux_asiatiques_de_1990\n",
      "1200\n",
      "/wiki/Universit%C3%A9_Sophia\n"
     ]
    },
    {
     "data": {
      "text/plain": [
       "(1206, 'https://fr.wikipedia.org//wiki/Philosophie')"
      ]
     },
     "execution_count": 24,
     "metadata": {},
     "output_type": "execute_result"
    }
   ],
   "source": [
    "count = 0\n",
    "links_already_passed = []\n",
    "\n",
    "search_for_philosophy('wiki/chien', count, links_already_passed)"
   ]
  },
  {
   "cell_type": "code",
   "execution_count": null,
   "metadata": {},
   "outputs": [],
   "source": []
  }
 ],
 "metadata": {
  "kernelspec": {
   "display_name": "Python 3",
   "language": "python",
   "name": "python3"
  },
  "language_info": {
   "codemirror_mode": {
    "name": "ipython",
    "version": 3
   },
   "file_extension": ".py",
   "mimetype": "text/x-python",
   "name": "python",
   "nbconvert_exporter": "python",
   "pygments_lexer": "ipython3",
   "version": "3.6.7"
  }
 },
 "nbformat": 4,
 "nbformat_minor": 4
}
