{
 "cells": [
  {
   "cell_type": "code",
   "execution_count": 1,
   "metadata": {},
   "outputs": [],
   "source": [
    "import requests\n",
    "from bs4 import BeautifulSoup"
   ]
  },
  {
   "cell_type": "code",
   "execution_count": 2,
   "metadata": {},
   "outputs": [],
   "source": [
    "def search_for_philosophy(term, count=0, links_already_passed=[]):\n",
    "    wiki_site = 'https://fr.wikipedia.org/' + term\n",
    "    soup = BeautifulSoup(requests.get(wiki_site).content)\n",
    "    next_links = [tag.get('href') for tag in soup.find_all('a') \n",
    "                  if tag.get('href') and all([char not in tag.get('href')  for char in (':', '#', '?')])\n",
    "                 and 'homonymie' not in tag.get('href')]\n",
    "    next_links = list(filter(lambda link: link not in links_already_passed, next_links))\n",
    "    \n",
    "    if '/wiki/Philosophie' == next_links[0]:\n",
    "        return count, wiki_site\n",
    "    else:\n",
    "        if count%50 == 0:\n",
    "            print('Distance (in number of links) : {}\\n'\n",
    "                  'Current page : {}'.format(count, wiki_site))\n",
    "        count += 1\n",
    "        links_already_passed.append(term)\n",
    "        return search_for_philosophy(next_links[0], count, links_already_passed)"
   ]
  },
  {
   "cell_type": "code",
   "execution_count": 4,
   "metadata": {},
   "outputs": [
    {
     "name": "stdout",
     "output_type": "stream",
     "text": [
      "Distance (in number of links) : 0\n",
      "Current page : https://fr.wikipedia.org/wiki/banana split\n",
      "Distance (in number of links) : 50\n",
      "Current page : https://fr.wikipedia.org//wiki/Ier_mill%C3%A9naire\n",
      "Distance (in number of links) : 100\n",
      "Current page : https://fr.wikipedia.org//wiki/XIVe_si%C3%A8cle_av._J.-C.\n",
      "Distance (in number of links) : 150\n",
      "Current page : https://fr.wikipedia.org//wiki/Ann%C3%A9es_80\n",
      "Distance (in number of links) : 200\n",
      "Current page : https://fr.wikipedia.org//wiki/G%C3%A9ologie\n",
      "Distance (in number of links) : 250\n",
      "Current page : https://fr.wikipedia.org//wiki/Bio\n",
      "Distance (in number of links) : 300\n",
      "Current page : https://fr.wikipedia.org//wiki/EC\n",
      "Distance (in number of links) : 350\n",
      "Current page : https://fr.wikipedia.org//wiki/Ann%C3%A9es_1490_av._J.-C.\n",
      "Distance (in number of links) : 400\n",
      "Current page : https://fr.wikipedia.org//wiki/G%C3%A9ographie_du_Br%C3%A9sil\n",
      "Distance (in number of links) : 450\n",
      "Current page : https://fr.wikipedia.org//wiki/Reggae\n",
      "Distance (in number of links) : 500\n",
      "Current page : https://fr.wikipedia.org//wiki/Presse_%C3%A9crite\n",
      "Distance (in number of links) : 550\n",
      "Current page : https://fr.wikipedia.org//wiki/Libertaire\n",
      "Distance (in number of links) : 600\n",
      "Current page : https://fr.wikipedia.org//wiki/Toponymie_fran%C3%A7aise\n",
      "Distance (in number of links) : 650\n",
      "Current page : https://fr.wikipedia.org//wiki/Slaves\n",
      "Distance (in number of links) : 700\n",
      "Current page : https://fr.wikipedia.org//wiki/Sociologie\n",
      "\n",
      "\n",
      "Total distance (in number of links) : 712\n",
      "Last page before philosophy : https://fr.wikipedia.org//wiki/Culture\n"
     ]
    }
   ],
   "source": [
    "count = 0\n",
    "links_already_passed = []\n",
    "\n",
    "count, last_page = search_for_philosophy('wiki/banana split', count, links_already_passed)\n",
    "\n",
    "print('\\n\\nTotal distance (in number of links) : {}\\n'\n",
    "      'Last page before philosophy : {}'.format(count+1, last_page))"
   ]
  },
  {
   "cell_type": "code",
   "execution_count": null,
   "metadata": {},
   "outputs": [],
   "source": []
  }
 ],
 "metadata": {
  "kernelspec": {
   "display_name": "Python 3",
   "language": "python",
   "name": "python3"
  },
  "language_info": {
   "codemirror_mode": {
    "name": "ipython",
    "version": 3
   },
   "file_extension": ".py",
   "mimetype": "text/x-python",
   "name": "python",
   "nbconvert_exporter": "python",
   "pygments_lexer": "ipython3",
   "version": "3.6.7"
  }
 },
 "nbformat": 4,
 "nbformat_minor": 4
}
